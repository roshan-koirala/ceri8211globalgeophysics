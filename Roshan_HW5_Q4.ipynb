{
  "nbformat": 4,
  "nbformat_minor": 0,
  "metadata": {
    "colab": {
      "name": "Roshan_HW5_Q4.ipynb",
      "provenance": [],
      "collapsed_sections": [],
      "authorship_tag": "ABX9TyNQGi4Uz9e2BWvsx30Sd73g",
      "include_colab_link": true
    },
    "kernelspec": {
      "name": "python3",
      "display_name": "Python 3"
    }
  },
  "cells": [
    {
      "cell_type": "markdown",
      "metadata": {
        "id": "view-in-github",
        "colab_type": "text"
      },
      "source": [
        "<a href=\"https://colab.research.google.com/github/roshan-koirala/ceri8211globalgeophysics/blob/master/Roshan_HW5_Q4.ipynb\" target=\"_parent\"><img src=\"https://colab.research.google.com/assets/colab-badge.svg\" alt=\"Open In Colab\"/></a>"
      ]
    },
    {
      "cell_type": "markdown",
      "metadata": {
        "id": "eu-G1YvfI8TV",
        "colab_type": "text"
      },
      "source": [
        "**Modules**"
      ]
    },
    {
      "cell_type": "code",
      "metadata": {
        "id": "ekmnzKtTJC4J",
        "colab_type": "code",
        "colab": {}
      },
      "source": [
        "import numpy as np\n",
        "import math as m"
      ],
      "execution_count": 0,
      "outputs": []
    },
    {
      "cell_type": "markdown",
      "metadata": {
        "id": "rw-CJ8UC0CG1",
        "colab_type": "text"
      },
      "source": [
        "**Parameters for the selected plates**"
      ]
    },
    {
      "cell_type": "markdown",
      "metadata": {
        "id": "YS9M5jYqBoMm",
        "colab_type": "text"
      },
      "source": [
        "The plate boundary points and the Rotation Plate are paired as:\n",
        "\n",
        "(Plate Boundary Points)  = (Rotation Pole)\n",
        "1. Himalaya = India - Eurasia\n",
        "2. S.Chile Trench    =  Nazca - South America\n",
        "3. San Andreas = Cocos - North America\n",
        "4. W. Aleutian Trench = Eurasia - Pacific\n",
        "5. Java = India - Eurasia"
      ]
    },
    {
      "cell_type": "code",
      "metadata": {
        "id": "IGzrJ9p_umaf",
        "colab_type": "code",
        "colab": {}
      },
      "source": [
        "R = 6371*1e5   # Radius of earth in cm\n",
        "\n",
        "# latitude of point x at plate boundary in radian\n",
        "lat_x = (np.pi/180) * np.array([35, -35, 38, 54, -12]) \n",
        "\n",
        "# longitude of point x in degrees at plate boundary in radian\n",
        "lon_x = (np.pi/180) * np.array([72, -74, -122, 169, 120])\n",
        "\n",
        "# latitude of rotation pole P in radian\n",
        "lat_p = (np.pi/180) * np.array([24.4, 56, 27.9, 61.1, 24.4])\n",
        "\n",
        "# longitude of rotation pole P in radian\n",
        "lon_p = (np.pi/180) * np.array([17.7, -94, -120.7, -85.8, 17.7])\n",
        "\n",
        "# Angular velocity of rotaion pole\n",
        "omega = 1e-7 * np.array([5.1, 7.2, 13.6, 8.6, 5.1])"
      ],
      "execution_count": 0,
      "outputs": []
    },
    {
      "cell_type": "markdown",
      "metadata": {
        "id": "J3Pw-kFG0NYi",
        "colab_type": "text"
      },
      "source": [
        "**Defining functions for calculation**"
      ]
    },
    {
      "cell_type": "code",
      "metadata": {
        "id": "niDEwrkaus3a",
        "colab_type": "code",
        "colab": {}
      },
      "source": [
        "def fct_a ( lat_x, lon_x, lat_p, lon_p ):\n",
        "    \"\"\"\n",
        "        lat_x: latitude of point x \n",
        "        lon_x: longitude of point x\n",
        "        lat_p: latitude of rotation pole P \n",
        "        lon_p: longitude of roation pole P \n",
        "     \"\"\"\n",
        "    return m.acos(np.sin(lat_x) * np.sin(lat_p) + np.cos(lat_x) * np.cos(lat_p) * np.cos(lon_p-lon_x))\n",
        "\n",
        "#=====================================================================================================\n",
        "def fct_C ( lat_x, lon_x, lat_p, lon_p, a):\n",
        "    \"\"\"\n",
        "        lat_x: latitude of point x \n",
        "        lon_x: longitude of point x\n",
        "        lat_p: latitude of rotation pole P \n",
        "        lon_p: longitude of roation pole P \n",
        "        a    : Output of fct_a\n",
        "    \"\"\"\n",
        "    return m.asin((np.cos(lat_p) * np.sin(lon_p-lon_x)) / np.sin(a))\n",
        "\n",
        "#===================================================================\n",
        "def fct_velocity (omega, R, a):\n",
        "      \"\"\"\n",
        "        omega: angular velocity of the pole\n",
        "        R    : Radius of earth\n",
        "        a    : Output of fct_a\n",
        "      \"\"\"    \n",
        "      return omega * R * (m.sin(a))"
      ],
      "execution_count": 0,
      "outputs": []
    },
    {
      "cell_type": "markdown",
      "metadata": {
        "id": "r3GtK94U0nuZ",
        "colab_type": "text"
      },
      "source": [
        "**Computation**"
      ]
    },
    {
      "cell_type": "code",
      "metadata": {
        "id": "pvMUuz6XzrFw",
        "colab_type": "code",
        "colab": {}
      },
      "source": [
        "a = np.zeros( len( lat_x))\n",
        "C = np.zeros( len( lat_x))\n",
        "velocity = np.zeros( len( lat_x))\n",
        "Beta = np.zeros( len( lat_x))\n",
        "\n",
        "for i in range( len( lat_x)):\n",
        "    a[i] = fct_a (lat_x[i], lon_x[i], lat_p[i], lon_p[i] )      # a in radian\n",
        "    C[i] = fct_C( lat_x[i], lon_x[i], lat_p[i], lon_p[i], a[i]) # c in radian\n",
        "    velocity[i] = (np.pi/180) * fct_velocity( omega[i], R, a[i])       # velociity in cm/yr\n",
        "    Beta[i] = np.pi/2 + C[i]                                        # Azimuth of velocity vector"
      ],
      "execution_count": 0,
      "outputs": []
    },
    {
      "cell_type": "markdown",
      "metadata": {
        "id": "en3MyVuY0qxR",
        "colab_type": "text"
      },
      "source": [
        "**Output**"
      ]
    },
    {
      "cell_type": "code",
      "metadata": {
        "id": "oSd3A57eurDo",
        "colab_type": "code",
        "outputId": "a0648688-e818-4980-eded-0ba07c0c1850",
        "colab": {
          "base_uri": "https://localhost:8080/",
          "height": 153
        }
      },
      "source": [
        "print('Value a are:')\n",
        "a  = 180/np.pi * a\n",
        "print(a)\n",
        "\n",
        "print('Value c are:')\n",
        "C  = 180/np.pi * C\n",
        "print(C)\n",
        "\n",
        "print('Velocity (cm/yr) for above five plates are:')\n",
        "#velocity = velocity\n",
        "print(velocity)\n",
        "\n",
        "print('Azimuth of above plates from North are:')\n",
        "Azimuth  = 180/np.pi * Beta\n",
        "print(Azimuth)\n",
        "\n"
      ],
      "execution_count": 0,
      "outputs": [
        {
          "output_type": "stream",
          "text": [
            "Value a are:\n",
            "[ 47.75811732  92.58359997  10.15839785  50.66995452 106.00093814]\n",
            "Value c are:\n",
            "[-87.39986894 -11.03740749   6.52767045  37.08043356 -67.76527161]\n",
            "Velocity (cm/yr) for above five plates are:\n",
            "[4.19827367 7.99789669 2.66715822 7.39687386 5.45123302]\n",
            "Azimuth of above plates from North are:\n",
            "[  2.60013106  78.96259251  96.52767045 127.08043356  22.23472839]\n"
          ],
          "name": "stdout"
        }
      ]
    }
  ]
}