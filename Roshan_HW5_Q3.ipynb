{
  "nbformat": 4,
  "nbformat_minor": 0,
  "metadata": {
    "colab": {
      "name": "Roshan_HW5_Q3.ipynb",
      "provenance": [],
      "collapsed_sections": [],
      "authorship_tag": "ABX9TyMTcrTwRvD63earC+spsTH+",
      "include_colab_link": true
    },
    "kernelspec": {
      "name": "python3",
      "display_name": "Python 3"
    }
  },
  "cells": [
    {
      "cell_type": "markdown",
      "metadata": {
        "id": "view-in-github",
        "colab_type": "text"
      },
      "source": [
        "<a href=\"https://colab.research.google.com/github/roshan-koirala/ceri8211globalgeophysics/blob/master/Roshan_HW5_Q3.ipynb\" target=\"_parent\"><img src=\"https://colab.research.google.com/assets/colab-badge.svg\" alt=\"Open In Colab\"/></a>"
      ]
    },
    {
      "cell_type": "markdown",
      "metadata": {
        "id": "eu-G1YvfI8TV",
        "colab_type": "text"
      },
      "source": [
        "**Modules**"
      ]
    },
    {
      "cell_type": "code",
      "metadata": {
        "id": "ekmnzKtTJC4J",
        "colab_type": "code",
        "colab": {}
      },
      "source": [
        "import numpy as np\n",
        "import math as m"
      ],
      "execution_count": 0,
      "outputs": []
    },
    {
      "cell_type": "markdown",
      "metadata": {
        "id": "rw-CJ8UC0CG1",
        "colab_type": "text"
      },
      "source": [
        "**Parameters for a, b, c, d and pole**"
      ]
    },
    {
      "cell_type": "code",
      "metadata": {
        "id": "IGzrJ9p_umaf",
        "colab_type": "code",
        "colab": {}
      },
      "source": [
        "R = 3400*1e5   # Radius of earth in cm\n",
        "\n",
        "# latitude of point x at plate boundary in radian\n",
        "lat_x = (np.pi/180) * np.array([0, 0, 0, 0]) \n",
        "\n",
        "# longitude of point x in degrees at plate boundary in radian\n",
        "lon_x = (np.pi/180) * np.array([0, 90, 180, -90])\n",
        "\n",
        "# latitude of rotation pole P in radian\n",
        "lat_p = (np.pi/180) * np.array([45, 45, 45, 45])\n",
        "\n",
        "# longitude of rotation pole P in radian\n",
        "lon_p = (np.pi/180) * np.array([0,0,0,0])\n",
        "\n",
        "# Angular velocity of rotaion pole\n",
        "omega = (180/np.pi) * 1e-10 * np.array([1, 1, 1, 1])"
      ],
      "execution_count": 0,
      "outputs": []
    },
    {
      "cell_type": "markdown",
      "metadata": {
        "id": "J3Pw-kFG0NYi",
        "colab_type": "text"
      },
      "source": [
        "**Defining functions for calculation**"
      ]
    },
    {
      "cell_type": "code",
      "metadata": {
        "id": "niDEwrkaus3a",
        "colab_type": "code",
        "colab": {}
      },
      "source": [
        "def fct_a ( lat_x, lon_x, lat_p, lon_p ):\n",
        "    \"\"\"\n",
        "        lat_x: latitude of point x \n",
        "        lon_x: longitude of point x\n",
        "        lat_p: latitude of rotation pole P \n",
        "        lon_p: longitude of roation pole P \n",
        "     \"\"\"\n",
        "    return m.acos(np.sin(lat_x) * np.sin(lat_p) + np.cos(lat_x) * np.cos(lat_p) * np.cos(lon_p-lon_x))\n",
        "\n",
        "#=====================================================================================================\n",
        "def fct_C ( lat_x, lon_x, lat_p, lon_p, a):\n",
        "    \"\"\"\n",
        "        lat_x: latitude of point x \n",
        "        lon_x: longitude of point x\n",
        "        lat_p: latitude of rotation pole P \n",
        "        lon_p: longitude of roation pole P \n",
        "        a    : Output of fct_a\n",
        "    \"\"\"\n",
        "    return m.asin((np.cos(lat_p) * np.sin(lon_p-lon_x)) / np.sin(a))\n",
        "\n",
        "#===================================================================\n",
        "def fct_velocity (omega, R, a):\n",
        "      \"\"\"\n",
        "        omega: angular velocity of the plate\n",
        "        R    : Radius of earth\n",
        "        a    : Output of fct_a\n",
        "      \"\"\"    \n",
        "      return omega*R*(m.sin(a))"
      ],
      "execution_count": 0,
      "outputs": []
    },
    {
      "cell_type": "markdown",
      "metadata": {
        "id": "r3GtK94U0nuZ",
        "colab_type": "text"
      },
      "source": [
        "**Computation**"
      ]
    },
    {
      "cell_type": "code",
      "metadata": {
        "id": "pvMUuz6XzrFw",
        "colab_type": "code",
        "colab": {}
      },
      "source": [
        "a = np.zeros( len( lat_x))\n",
        "C = np.zeros( len( lat_x))\n",
        "velocity = np.zeros( len( lat_x))\n",
        "Beta = np.zeros( len( lat_x))\n",
        "\n",
        "for i in range( len( lat_x)):\n",
        "    a[i] = fct_a (lat_x[i], lon_x[i], lat_p[i], lon_p[i] )      # a in radian\n",
        "    C[i] = fct_C( lat_x[i], lon_x[i], lat_p[i], lon_p[i], a[i]) # c in radian\n",
        "    velocity[i] = (np.pi/180) * fct_velocity( omega[i], R, a[i])       # velociity in cm/yr\n",
        "    Beta[i] = np.pi/2 + C[i]                                        # Azimuth of velocity vector"
      ],
      "execution_count": 0,
      "outputs": []
    },
    {
      "cell_type": "markdown",
      "metadata": {
        "id": "en3MyVuY0qxR",
        "colab_type": "text"
      },
      "source": [
        "**Output**"
      ]
    },
    {
      "cell_type": "code",
      "metadata": {
        "id": "oSd3A57eurDo",
        "colab_type": "code",
        "outputId": "488f386a-a8cc-4d26-b755-318d97c16c0f",
        "colab": {
          "base_uri": "https://localhost:8080/",
          "height": 85
        }
      },
      "source": [
        "print('Velocity (cm/yr) for above five plates are:')\n",
        "#velocity = velocity\n",
        "print(velocity)\n",
        "\n",
        "print('Azimuth of above plates from North are:')\n",
        "Azimuth  = 180/np.pi * Beta\n",
        "print(Azimuth)\n"
      ],
      "execution_count": 0,
      "outputs": [
        {
          "output_type": "stream",
          "text": [
            "Velocity (cm/yr) for above five plates are:\n",
            "[0.02404163 0.034      0.02404163 0.034     ]\n",
            "Azimuth of above plates from North are:\n",
            "[ 90.  45.  90. 135.]\n"
          ],
          "name": "stdout"
        }
      ]
    }
  ]
}