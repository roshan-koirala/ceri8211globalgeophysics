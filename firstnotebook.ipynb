{
  "nbformat": 4,
  "nbformat_minor": 0,
  "metadata": {
    "colab": {
      "name": "firstnotebook.ipynb",
      "provenance": [],
      "collapsed_sections": [],
      "authorship_tag": "ABX9TyOTeutVn/Hw5IBUjAtyZMCM",
      "include_colab_link": true
    },
    "kernelspec": {
      "name": "python3",
      "display_name": "Python 3"
    }
  },
  "cells": [
    {
      "cell_type": "markdown",
      "metadata": {
        "id": "view-in-github",
        "colab_type": "text"
      },
      "source": [
        "<a href=\"https://colab.research.google.com/github/roshan-koirala/ceri8211globalgeophysics/blob/master/firstnotebook.ipynb\" target=\"_parent\"><img src=\"https://colab.research.google.com/assets/colab-badge.svg\" alt=\"Open In Colab\"/></a>"
      ]
    },
    {
      "cell_type": "markdown",
      "metadata": {
        "id": "2Wyuo8j2Z-ld",
        "colab_type": "text"
      },
      "source": [
        "This is a simple code that generates matrix (A) and vector (x), replaces their values by random values, performs multiplaction (A*x) and then plots the output (b)"
      ]
    },
    {
      "cell_type": "code",
      "metadata": {
        "id": "D-tlWVr7fVOs",
        "colab_type": "code",
        "colab": {}
      },
      "source": [
        "# This cell has required modules\n",
        "\n",
        "import numpy as np\n",
        "import matplotlib.pyplot as plt"
      ],
      "execution_count": 0,
      "outputs": []
    },
    {
      "cell_type": "code",
      "metadata": {
        "colab_type": "code",
        "id": "9J2rmrY0StSA",
        "colab": {}
      },
      "source": [
        "# a 10*10 matrix and a 10*1 vector is constructed\n",
        "\n",
        "A = np.zeros((10,10))\n",
        "x = np.zeros((10,1))"
      ],
      "execution_count": 0,
      "outputs": []
    },
    {
      "cell_type": "code",
      "metadata": {
        "id": "O-f4ScZEquel",
        "colab_type": "code",
        "colab": {}
      },
      "source": [
        "# Here entire values on matrix and vector are replaced by the random bnumbers\n",
        "sh_A = A.shape\n",
        "for k in range(0, sh_A[0]):\n",
        "    for l in range(0, sh_A[1]):\n",
        "      A[k, l] = np.random.rand()\n",
        "\n",
        "sh_x = x.shape\n",
        "for i in range(0, sh_x[0]):\n",
        "    for j in range(0, sh_x[1]):\n",
        "      x[i, j] = np.random.rand()\n"
      ],
      "execution_count": 0,
      "outputs": []
    },
    {
      "cell_type": "code",
      "metadata": {
        "id": "cTr8uL1wc8pi",
        "colab_type": "code",
        "colab": {}
      },
      "source": [
        "# Performing matrix - vector multiplication\n",
        "b = A.dot(x)"
      ],
      "execution_count": 0,
      "outputs": []
    },
    {
      "cell_type": "code",
      "metadata": {
        "id": "Pb_Bx5TZVJEn",
        "colab_type": "code",
        "outputId": "521b7012-3f67-413e-d3bb-9b3d9b2898c1",
        "colab": {
          "base_uri": "https://localhost:8080/",
          "height": 312
        }
      },
      "source": [
        "# Plotting the result\n",
        "plt.plot(b, 'o', label='data')\n",
        "plt.legend()\n",
        "plt.title('Scatter Plot of Output Random Vector (b)')\n",
        "plt.xlabel('Data Order')\n",
        "plt.ylabel('Value')"
      ],
      "execution_count": 0,
      "outputs": [
        {
          "output_type": "execute_result",
          "data": {
            "text/plain": [
              "Text(0, 0.5, 'Value')"
            ]
          },
          "metadata": {
            "tags": []
          },
          "execution_count": 5
        },
        {
          "output_type": "display_data",
          "data": {
            "image/png": "[encoded data removed]",
            "text/plain": [
              "<Figure size 432x288 with 1 Axes>"
            ]
          },
          "metadata": {
            "tags": []
          }
        }
      ]
    },
    {
      "cell_type": "code",
      "metadata": {
        "id": "WEQKWdJaeEIb",
        "colab_type": "code",
        "colab": {}
      },
      "source": [
        ""
      ],
      "execution_count": 0,
      "outputs": []
    }
  ]
}