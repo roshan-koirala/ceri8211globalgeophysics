{
  "nbformat": 4,
  "nbformat_minor": 0,
  "metadata": {
    "colab": {
      "name": "HW3_Q2b.ipynb",
      "provenance": [],
      "collapsed_sections": [],
      "authorship_tag": "ABX9TyMs11uPNmog/Ta5TReMeDjA",
      "include_colab_link": true
    },
    "kernelspec": {
      "name": "python3",
      "display_name": "Python 3"
    }
  },
  "cells": [
    {
      "cell_type": "markdown",
      "metadata": {
        "id": "view-in-github",
        "colab_type": "text"
      },
      "source": [
        "<a href=\"https://colab.research.google.com/github/roshan-koirala/ceri8211globalgeophysics/blob/master/HW3_Q2b.ipynb\" target=\"_parent\"><img src=\"https://colab.research.google.com/assets/colab-badge.svg\" alt=\"Open In Colab\"/></a>"
      ]
    },
    {
      "cell_type": "markdown",
      "metadata": {
        "id": "x9iyg1aqGz-j",
        "colab_type": "text"
      },
      "source": [
        "**Pollutant Concentration Change Over Time**"
      ]
    },
    {
      "cell_type": "code",
      "metadata": {
        "id": "0RahUXLMG7RV",
        "colab_type": "code",
        "colab": {}
      },
      "source": [
        "# Required Modules\n",
        "import numpy as np\n",
        "import matplotlib.pyplot as plt"
      ],
      "execution_count": 0,
      "outputs": []
    },
    {
      "cell_type": "code",
      "metadata": {
        "id": "KaIHO1z0HH_g",
        "colab_type": "code",
        "colab": {}
      },
      "source": [
        "# Varibles\n",
        "T = np.arange(0,5000,1)   # Time limit\n",
        "Vt = 100000 + 97680*T     # Volume of water at time (T)\n",
        "Pt = 40000*T              # Quantity of Pollutant at time (T)\n",
        "\n"
      ],
      "execution_count": 0,
      "outputs": []
    },
    {
      "cell_type": "code",
      "metadata": {
        "id": "CA70chlcHtIy",
        "colab_type": "code",
        "colab": {}
      },
      "source": [
        "# Concentration = pollutant / water volume\n",
        "Concentration = Pt/Vt"
      ],
      "execution_count": 0,
      "outputs": []
    },
    {
      "cell_type": "code",
      "metadata": {
        "id": "4FEAmAfDHLWO",
        "colab_type": "code",
        "outputId": "934f4375-9fd4-403a-a291-1715d3b9806c",
        "colab": {
          "base_uri": "https://localhost:8080/",
          "height": 295
        }
      },
      "source": [
        "#Plot the pollutant concentration vs. Time\n",
        "\n",
        "plt.figure()\n",
        "plt.plot(T, Concentration, 'b-', label = 'Concentration')\n",
        "plt.xlabel('TIme (Year)')\n",
        "plt.ylabel('Concentration')\n",
        "plt.title('Concentration of Pollutant in the Lake over Time')\n",
        "plt.legend(loc='lower right')\n",
        "plt.grid()"
      ],
      "execution_count": 0,
      "outputs": [
        {
          "output_type": "display_data",
          "data": {
            "image/png": "[encoded data removed]",
            "text/plain": [
              "<Figure size 432x288 with 1 Axes>"
            ]
          },
          "metadata": {
            "tags": []
          }
        }
      ]
    }
  ]
}