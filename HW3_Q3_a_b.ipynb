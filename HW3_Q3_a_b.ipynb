{
  "nbformat": 4,
  "nbformat_minor": 0,
  "metadata": {
    "colab": {
      "name": "HW3_Q3_a_b.ipynb",
      "provenance": [],
      "collapsed_sections": [],
      "toc_visible": true,
      "authorship_tag": "ABX9TyNzy6GxlyN0Wkx8NEDvBcQM",
      "include_colab_link": true
    },
    "kernelspec": {
      "name": "python3",
      "display_name": "Python 3"
    }
  },
  "cells": [
    {
      "cell_type": "markdown",
      "metadata": {
        "id": "view-in-github",
        "colab_type": "text"
      },
      "source": [
        "<a href=\"https://colab.research.google.com/github/roshan-koirala/ceri8211globalgeophysics/blob/master/HW3_Q3_a_b.ipynb\" target=\"_parent\"><img src=\"https://colab.research.google.com/assets/colab-badge.svg\" alt=\"Open In Colab\"/></a>"
      ]
    },
    {
      "cell_type": "markdown",
      "metadata": {
        "id": "x9iyg1aqGz-j",
        "colab_type": "text"
      },
      "source": [
        "**Concordia and Discordia**"
      ]
    },
    {
      "cell_type": "code",
      "metadata": {
        "id": "0RahUXLMG7RV",
        "colab_type": "code",
        "colab": {}
      },
      "source": [
        "# Required Modules\n",
        "\n",
        "import numpy as np\n",
        "import matplotlib.pyplot as plt"
      ],
      "execution_count": 0,
      "outputs": []
    },
    {
      "cell_type": "markdown",
      "metadata": {
        "id": "hScX0NOKMODY",
        "colab_type": "text"
      },
      "source": [
        "**Concordia** "
      ]
    },
    {
      "cell_type": "code",
      "metadata": {
        "id": "qXe0aY4tMKFd",
        "colab_type": "code",
        "colab": {}
      },
      "source": [
        "# Create time vector\n",
        "Time_my = np.arange(0,5000,100) \n",
        "Time_yr = Time_my*(10**6)\n",
        "\n",
        "# Decay constant for Uranium 235 and 238\n",
        "lambda_U235 = 9.8485 * (10**-10)\n",
        "lambda_U238 = 1.5513 * (10**-10)\n",
        "\n",
        "# Theoretical ratio for Lead and Uranium\n",
        "con_Pb206_U238 = (np.exp(lambda_U238 * Time_yr)) - 1\n",
        "con_Pb207_U235 = (np.exp(lambda_U235 * Time_yr)) - 1"
      ],
      "execution_count": 0,
      "outputs": []
    },
    {
      "cell_type": "markdown",
      "metadata": {
        "id": "C7FPGV_-Oryq",
        "colab_type": "text"
      },
      "source": [
        "**Discordia**"
      ]
    },
    {
      "cell_type": "code",
      "metadata": {
        "id": "KaIHO1z0HH_g",
        "colab_type": "code",
        "colab": {}
      },
      "source": [
        "# Lead - Uranium Time in Million Year\n",
        "Pb206_U238 = np.array([4233, 4201, 3780, 1713, 2595, 1177, 4356, 4235, 3675, 4126, 2604, 1961, 4364, 3355])\n",
        "Pb207_U235 = np.array([4321, 4303, 4153, 3155, 3672, 2808, 4355, 4307, 4078, 4287, 3651, 3317, 4392, 3985])\n",
        "\n",
        "# Lead - Uranium Time in Year\n",
        "Pb206_U238_yr = Pb206_U238 * (10**6)\n",
        "Pb207_U235_yr = Pb207_U235 * (10**6)\n",
        "\n",
        "# Lead and Uranium ratio from the table\n",
        "dis_Pb206_U238 = (np.exp (lambda_U238 * Pb206_U238_yr)) - 1\n",
        "dis_Pb207_U235 = (np.exp (lambda_U235 * Pb207_U235_yr)) - 1"
      ],
      "execution_count": 0,
      "outputs": []
    },
    {
      "cell_type": "code",
      "metadata": {
        "id": "j2h3-MzUREF_",
        "colab_type": "code",
        "colab": {}
      },
      "source": [
        "# Best fit line for Discordia\n",
        "line = np.polyfit(dis_Pb207_U235, dis_Pb206_U238, 1)\n",
        "fit = np.poly1d (line)\n",
        "dis_limit = np.linspace(-5, 100, 104)"
      ],
      "execution_count": 0,
      "outputs": []
    },
    {
      "cell_type": "code",
      "metadata": {
        "id": "4FEAmAfDHLWO",
        "colab_type": "code",
        "outputId": "758561c0-f295-4728-f541-017e30b0c61d",
        "colab": {
          "base_uri": "https://localhost:8080/",
          "height": 421
        }
      },
      "source": [
        "#Plot the Concordia and Discordia\n",
        "\n",
        "plt.figure(figsize = (8,6))\n",
        "plt.plot(con_Pb207_U235, con_Pb206_U238, 'b-', label = 'Concordia')\n",
        "plt.plot( dis_limit, fit(dis_limit),  'k-', label = 'Discordia')\n",
        "plt.plot(dis_Pb207_U235, dis_Pb206_U238, 'ro', label = 'Zircon U-Pb')\n",
        "plt.xlabel('Pb207/U235')\n",
        "plt.ylabel('Pb206/U238')\n",
        "plt.title('Concordia - Discordia Diagram')\n",
        "plt.legend(loc='lower right')\n",
        "plt.grid()\n",
        "\n",
        "# To zoom into the crossover point, please uncomment these two lines\n",
        "#plt.xlim(71,72.5)\n",
        "#plt.ylim(0.925,1)"
      ],
      "execution_count": 130,
      "outputs": [
        {
          "output_type": "execute_result",
          "data": {
            "text/plain": [
              "(0.925, 1)"
            ]
          },
          "metadata": {
            "tags": []
          },
          "execution_count": 130
        },
        {
          "output_type": "display_data",
          "data": {
            "image/png": "[encoded data removed]",
            "text/plain": [
              "<Figure size 576x432 with 1 Axes>"
            ]
          },
          "metadata": {
            "tags": []
          }
        }
      ]
    }
  ]
}